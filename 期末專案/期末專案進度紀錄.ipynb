{
 "cells": [
  {
   "cell_type": "markdown",
   "metadata": {},
   "source": [
    "# 【視覺化VAE中手寫辨識的Decoder】\n",
    "\n",
    "組員：簡家蓁＆ 溫怡萱"
   ]
  },
  {
   "cell_type": "markdown",
   "metadata": {},
   "source": [
    "## 1.介紹\n",
    "如同助教上課所介紹的希望能打造貼近使用者介面的Decoder呈現。\n",
    "\n",
    "當滑鼠碰到做上角的圖片時，能直接變成起始值，點擊另一個可以當結束值。\n",
    "\n",
    "<img src=\"01.png\" alt=\"drawing\" style=\"width: 300px;\"/>"
   ]
  },
  {
   "cell_type": "markdown",
   "metadata": {},
   "source": [
    "## 2.實作方法\n",
    "\n",
    "1. 使用上課的手寫VAE模型or重跑一個模型\n",
    "2. 尋找互動之方法"
   ]
  },
  {
   "cell_type": "markdown",
   "metadata": {},
   "source": [
    "## 3.專案排程\n",
    "\n",
    "5/31 確定好模型\n",
    "6/07"
   ]
  }
 ],
 "metadata": {
  "kernelspec": {
   "display_name": "Python 3",
   "language": "python",
   "name": "python3"
  },
  "language_info": {
   "codemirror_mode": {
    "name": "ipython",
    "version": 3
   },
   "file_extension": ".py",
   "mimetype": "text/x-python",
   "name": "python",
   "nbconvert_exporter": "python",
   "pygments_lexer": "ipython3",
   "version": "3.6.0"
  }
 },
 "nbformat": 4,
 "nbformat_minor": 2
}
