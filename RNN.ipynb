{
  "nbformat": 4,
  "nbformat_minor": 0,
  "metadata": {
    "colab": {
      "name": "RNN.ipynb",
      "version": "0.3.2",
      "provenance": [],
      "collapsed_sections": [
        "rR5yIZD8REnP",
        "rK5ZbO-fgIrx",
        "wD1M_JZslRvH",
        "WJTPElxD3FBp",
        "HG9FcyE-3MwF"
      ]
    },
    "kernelspec": {
      "name": "python3",
      "display_name": "Python 3"
    }
  },
  "cells": [
    {
      "cell_type": "markdown",
      "metadata": {
        "id": "RTAPaAXBpMz6",
        "colab_type": "text"
      },
      "source": [
        "# 1. 初始準備"
      ]
    },
    {
      "cell_type": "code",
      "metadata": {
        "id": "MrrBAzANqcUZ",
        "colab_type": "code",
        "colab": {
          "base_uri": "https://localhost:8080/",
          "height": 297
        },
        "outputId": "ce8c66b0-69c0-49d2-f437-d8a177c51325"
      },
      "source": [
        "!pip install numpy==1.16.2"
      ],
      "execution_count": 5,
      "outputs": [
        {
          "output_type": "stream",
          "text": [
            "Collecting numpy==1.16.2\n",
            "\u001b[?25l  Downloading https://files.pythonhosted.org/packages/35/d5/4f8410ac303e690144f0a0603c4b8fd3b986feb2749c435f7cdbb288f17e/numpy-1.16.2-cp36-cp36m-manylinux1_x86_64.whl (17.3MB)\n",
            "\u001b[K     |████████████████████████████████| 17.3MB 2.8MB/s \n",
            "\u001b[31mERROR: datascience 0.10.6 has requirement folium==0.2.1, but you'll have folium 0.8.3 which is incompatible.\u001b[0m\n",
            "\u001b[31mERROR: albumentations 0.1.12 has requirement imgaug<0.2.7,>=0.2.5, but you'll have imgaug 0.2.9 which is incompatible.\u001b[0m\n",
            "\u001b[?25hInstalling collected packages: numpy\n",
            "  Found existing installation: numpy 1.16.3\n",
            "    Uninstalling numpy-1.16.3:\n",
            "      Successfully uninstalled numpy-1.16.3\n",
            "Successfully installed numpy-1.16.2\n"
          ],
          "name": "stdout"
        },
        {
          "output_type": "display_data",
          "data": {
            "application/vnd.colab-display-data+json": {
              "pip_warning": {
                "packages": [
                  "numpy"
                ]
              }
            }
          },
          "metadata": {
            "tags": []
          }
        }
      ]
    },
    {
      "cell_type": "code",
      "metadata": {
        "id": "eA5Lsy2MfX4u",
        "colab_type": "code",
        "colab": {
          "base_uri": "https://localhost:8080/",
          "height": 34
        },
        "outputId": "52732490-c15f-4ab8-8e1a-160219b3607b"
      },
      "source": [
        "%env KERAS_BACKEND=tensorflow"
      ],
      "execution_count": 1,
      "outputs": [
        {
          "output_type": "stream",
          "text": [
            "env: KERAS_BACKEND=tensorflow\n"
          ],
          "name": "stdout"
        }
      ]
    },
    {
      "cell_type": "code",
      "metadata": {
        "id": "vYeIne6IppGG",
        "colab_type": "code",
        "colab": {}
      },
      "source": [
        "%matplotlib inline\n",
        "\n",
        "import numpy as np\n",
        "import matplotlib.pyplot as plt"
      ],
      "execution_count": 0,
      "outputs": []
    },
    {
      "cell_type": "markdown",
      "metadata": {
        "id": "lBLJ_jW0pTgA",
        "colab_type": "text"
      },
      "source": [
        "# 2. 讀入 IMDB 電影數據庫"
      ]
    },
    {
      "cell_type": "code",
      "metadata": {
        "id": "jyGMbMu-ptD-",
        "colab_type": "code",
        "colab": {
          "base_uri": "https://localhost:8080/",
          "height": 34
        },
        "outputId": "f714cd6e-12b5-49ad-97f7-36068456d52e"
      },
      "source": [
        "from keras.datasets import imdb"
      ],
      "execution_count": 3,
      "outputs": [
        {
          "output_type": "stream",
          "text": [
            "Using TensorFlow backend.\n"
          ],
          "name": "stderr"
        }
      ]
    },
    {
      "cell_type": "code",
      "metadata": {
        "id": "SpIglBxpqFiO",
        "colab_type": "code",
        "colab": {}
      },
      "source": [
        "(x_train0, y_train), (x_test0, y_test) = imdb.load_data(num_words = 10000)"
      ],
      "execution_count": 0,
      "outputs": []
    },
    {
      "cell_type": "markdown",
      "metadata": {
        "id": "5ATbhy6QrGw4",
        "colab_type": "text"
      },
      "source": [
        "#3. 資料整理\n",
        "\n",
        "輸入資料的文字上限數"
      ]
    },
    {
      "cell_type": "code",
      "metadata": {
        "id": "pMLZ2nqJqYF1",
        "colab_type": "code",
        "colab": {}
      },
      "source": [
        "from keras.preprocessing import sequence"
      ],
      "execution_count": 0,
      "outputs": []
    },
    {
      "cell_type": "code",
      "metadata": {
        "id": "RN6s4yHXsAeV",
        "colab_type": "code",
        "colab": {}
      },
      "source": [
        "x_train = sequence.pad_sequences(x_train0, maxlen = 150)\n",
        "x_test = sequence.pad_sequences(x_test0, maxlen = 150)"
      ],
      "execution_count": 0,
      "outputs": []
    },
    {
      "cell_type": "markdown",
      "metadata": {
        "id": "DzLAxLg-sbHg",
        "colab_type": "text"
      },
      "source": [
        "#4. 打造RNN"
      ]
    },
    {
      "cell_type": "code",
      "metadata": {
        "id": "OS-wBfResPoK",
        "colab_type": "code",
        "colab": {}
      },
      "source": [
        "from keras.models import Sequential\n",
        "from keras.layers import Dense, Embedding, Dropout\n",
        "from keras.layers import LSTM"
      ],
      "execution_count": 0,
      "outputs": []
    },
    {
      "cell_type": "markdown",
      "metadata": {
        "id": "V9zX9AM0MY94",
        "colab_type": "text"
      },
      "source": [
        "## 4-1 model1(上課的model)"
      ]
    },
    {
      "cell_type": "code",
      "metadata": {
        "id": "j2uo9gLqsayj",
        "colab_type": "code",
        "colab": {
          "base_uri": "https://localhost:8080/",
          "height": 445
        },
        "outputId": "6c136ce2-ba70-4374-a798-bf0d55bfb2c8"
      },
      "source": [
        "# 參數設定\n",
        "N = 3 # 文字要壓到 N 維\n",
        "K = 4 # LSTM 有 K 個神經元\n",
        "\n",
        "#建構神經網路\n",
        "model_1 = Sequential()\n",
        "model_1.add(Embedding(10000, N))\n",
        "model_1.add(LSTM(K))\n",
        "model_1.add(Dense(1, activation='sigmoid'))\n",
        "\n",
        "#組裝神經網路\n",
        "model_1.compile(loss = 'binary_crossentropy',\n",
        "               optimizer = 'adam',\n",
        "               metrics = ['accuracy'])\n",
        "\n",
        "#查看神經網路\n",
        "model_1.summary()\n",
        "\n",
        "#訓練\n",
        "model_1_out = model_1.fit(x_train, y_train,\n",
        "                          batch_size = 32,\n",
        "                          epochs=5,\n",
        "                          validation_data = (x_test, y_test))\n"
      ],
      "execution_count": 18,
      "outputs": [
        {
          "output_type": "stream",
          "text": [
            "_________________________________________________________________\n",
            "Layer (type)                 Output Shape              Param #   \n",
            "=================================================================\n",
            "embedding_9 (Embedding)      (None, None, 3)           30000     \n",
            "_________________________________________________________________\n",
            "lstm_7 (LSTM)                (None, 4)                 128       \n",
            "_________________________________________________________________\n",
            "dense_7 (Dense)              (None, 1)                 5         \n",
            "=================================================================\n",
            "Total params: 30,133\n",
            "Trainable params: 30,133\n",
            "Non-trainable params: 0\n",
            "_________________________________________________________________\n",
            "Train on 25000 samples, validate on 25000 samples\n",
            "Epoch 1/5\n",
            "25000/25000 [==============================] - 65s 3ms/step - loss: 0.5015 - acc: 0.7562 - val_loss: 0.3740 - val_acc: 0.8379\n",
            "Epoch 2/5\n",
            "25000/25000 [==============================] - 63s 3ms/step - loss: 0.3001 - acc: 0.8802 - val_loss: 0.3396 - val_acc: 0.8580\n",
            "Epoch 3/5\n",
            "25000/25000 [==============================] - 64s 3ms/step - loss: 0.2302 - acc: 0.9152 - val_loss: 0.3293 - val_acc: 0.8636\n",
            "Epoch 4/5\n",
            "25000/25000 [==============================] - 63s 3ms/step - loss: 0.1879 - acc: 0.9347 - val_loss: 0.3510 - val_acc: 0.8584\n",
            "Epoch 5/5\n",
            "25000/25000 [==============================] - 62s 2ms/step - loss: 0.1573 - acc: 0.9466 - val_loss: 0.3913 - val_acc: 0.8541\n"
          ],
          "name": "stdout"
        }
      ]
    },
    {
      "cell_type": "markdown",
      "metadata": {
        "id": "qJkoIP2fbeK-",
        "colab_type": "text"
      },
      "source": [
        "似乎有overfitting2的狀態，畫圖來看看。"
      ]
    },
    {
      "cell_type": "code",
      "metadata": {
        "id": "V_Oiref1YQDd",
        "colab_type": "code",
        "colab": {
          "base_uri": "https://localhost:8080/",
          "height": 312
        },
        "outputId": "7cec8671-2b82-4460-b184-026ebd98de67"
      },
      "source": [
        "acc = model_1_out.history['acc']\n",
        "val_acc = model_1_out.history['val_acc']\n",
        "loss = model_1_out.history['loss']\n",
        "val_loss = model_1_out.history['val_loss']\n",
        "\n",
        "epochs = range(1, len(acc) + 1)\n",
        "\n",
        "plt.plot(epochs, loss, 'bo', label='Training loss')\n",
        "plt.plot(epochs, val_loss, 'b', label='Validation loss')\n",
        "plt.title('Training and validation loss')\n",
        "plt.xlabel('Epochs')\n",
        "plt.ylabel('Loss')\n",
        "plt.legend()"
      ],
      "execution_count": 21,
      "outputs": [
        {
          "output_type": "execute_result",
          "data": {
            "text/plain": [
              "<matplotlib.legend.Legend at 0x7f4f232d7a58>"
            ]
          },
          "metadata": {
            "tags": []
          },
          "execution_count": 21
        },
        {
          "output_type": "display_data",
          "data": {
            "image/png": "[encoded data removed]",
            "text/plain": [
              "<Figure size 432x288 with 1 Axes>"
            ]
          },
          "metadata": {
            "tags": []
          }
        }
      ]
    },
    {
      "cell_type": "markdown",
      "metadata": {
        "id": "0O_dghSebj_4",
        "colab_type": "text"
      },
      "source": [
        "### model1 小結\n",
        "\n",
        "大概在第三次epochs時，val_acc開始上升"
      ]
    },
    {
      "cell_type": "markdown",
      "metadata": {
        "id": "E-0L2oIEQsDS",
        "colab_type": "text"
      },
      "source": [
        "## 4-2 model2\n",
        "\n",
        "發現model1大概在訓練第三次左右出現overfitting的狀態。於是，加入兩層dropout。"
      ]
    },
    {
      "cell_type": "code",
      "metadata": {
        "id": "iDI2XqJZPVX6",
        "colab_type": "code",
        "colab": {
          "base_uri": "https://localhost:8080/",
          "height": 808
        },
        "outputId": "4a4d3086-7461-498c-c11d-53af5a44c7fb"
      },
      "source": [
        "# 參數設定\n",
        "N = 3 # 文字要壓到 N 維\n",
        "K = 4 # LSTM 有 K 個神經元\n",
        "\n",
        "#建構神經網路\n",
        "model_2 = Sequential()\n",
        "model_2.add(Embedding(10000, N))\n",
        "model_2.add(Dropout(0.25))\n",
        "model_2.add(LSTM(K))\n",
        "model_2.add(Dropout(0.25))\n",
        "model_2.add(Dense(1, activation='sigmoid'))\n",
        "\n",
        "#組裝神經網路\n",
        "model_2.compile(loss = 'binary_crossentropy',\n",
        "               optimizer = 'adam',\n",
        "               metrics = ['accuracy'])\n",
        "\n",
        "#查看神經網路\n",
        "model_2.summary()\n",
        "\n",
        "#訓練\n",
        "model_2_out = model_2.fit(x_train, y_train,\n",
        "                          batch_size = 32,\n",
        "                          epochs=5,\n",
        "                          validation_data = (x_test, y_test))\n",
        "#檢查overfitting\n",
        "acc = model_2_out.history['acc']\n",
        "val_acc = model_2_out.history['val_acc']\n",
        "loss = model_2_out.history['loss']\n",
        "val_loss = model_2_out.history['val_loss']\n",
        "\n",
        "epochs = range(1, len(acc) + 1)\n",
        "\n",
        "plt.plot(epochs, loss, 'bo', label='Training loss')\n",
        "plt.plot(epochs, val_loss, 'b', label='Validation loss')\n",
        "plt.title('Training and validation loss')\n",
        "plt.xlabel('Epochs')\n",
        "plt.ylabel('Loss')\n",
        "plt.legend()"
      ],
      "execution_count": 24,
      "outputs": [
        {
          "output_type": "stream",
          "text": [
            "_________________________________________________________________\n",
            "Layer (type)                 Output Shape              Param #   \n",
            "=================================================================\n",
            "embedding_12 (Embedding)     (None, None, 3)           30000     \n",
            "_________________________________________________________________\n",
            "dropout_7 (Dropout)          (None, None, 3)           0         \n",
            "_________________________________________________________________\n",
            "lstm_10 (LSTM)               (None, 4)                 128       \n",
            "_________________________________________________________________\n",
            "dropout_8 (Dropout)          (None, 4)                 0         \n",
            "_________________________________________________________________\n",
            "dense_10 (Dense)             (None, 1)                 5         \n",
            "=================================================================\n",
            "Total params: 30,133\n",
            "Trainable params: 30,133\n",
            "Non-trainable params: 0\n",
            "_________________________________________________________________\n",
            "Train on 25000 samples, validate on 25000 samples\n",
            "Epoch 1/5\n",
            "25000/25000 [==============================] - 75s 3ms/step - loss: 0.5449 - acc: 0.7284 - val_loss: 0.3933 - val_acc: 0.8325\n",
            "Epoch 2/5\n",
            "25000/25000 [==============================] - 71s 3ms/step - loss: 0.3490 - acc: 0.8708 - val_loss: 0.3364 - val_acc: 0.8617\n",
            "Epoch 3/5\n",
            "25000/25000 [==============================] - 71s 3ms/step - loss: 0.2834 - acc: 0.8986 - val_loss: 0.3207 - val_acc: 0.8659\n",
            "Epoch 4/5\n",
            "25000/25000 [==============================] - 72s 3ms/step - loss: 0.2530 - acc: 0.9109 - val_loss: 0.3343 - val_acc: 0.8645\n",
            "Epoch 5/5\n",
            "25000/25000 [==============================] - 71s 3ms/step - loss: 0.2300 - acc: 0.9188 - val_loss: 0.3486 - val_acc: 0.8577\n"
          ],
          "name": "stdout"
        },
        {
          "output_type": "execute_result",
          "data": {
            "text/plain": [
              "<matplotlib.legend.Legend at 0x7f4f2084e780>"
            ]
          },
          "metadata": {
            "tags": []
          },
          "execution_count": 24
        },
        {
          "output_type": "display_data",
          "data": {
            "image/png": "[encoded data removed]",
            "text/plain": [
              "<Figure size 432x288 with 1 Axes>"
            ]
          },
          "metadata": {
            "tags": []
          }
        }
      ]
    },
    {
      "cell_type": "code",
      "metadata": {
        "id": "yP1Gc0yzms55",
        "colab_type": "code",
        "colab": {}
      },
      "source": [
        "score2 = model_2.evaluate(x_test, y_test)\n",
        "print(\"Model2 Accuracy: %.2f%%\" % (score2[1]*100))"
      ],
      "execution_count": 0,
      "outputs": []
    },
    {
      "cell_type": "markdown",
      "metadata": {
        "id": "rR5yIZD8REnP",
        "colab_type": "text"
      },
      "source": [
        "## 4-3 model3\n",
        "\n",
        "由於model2增加dropout似乎有提升一點點準確率，但是overfitting的狀態還是存在，決定讓訓練次數少一些，並調整：N/K。"
      ]
    },
    {
      "cell_type": "code",
      "metadata": {
        "id": "fqDW2vFkRCzw",
        "colab_type": "code",
        "colab": {
          "base_uri": "https://localhost:8080/",
          "height": 740
        },
        "outputId": "1aaac5c1-60d9-405a-ef78-5f48034e278a"
      },
      "source": [
        "# 參數設定\n",
        "N = 10 # 文字要壓到 N 維\n",
        "K = 50 # LSTM 有 K 個神經元\n",
        "\n",
        "#建構神經網路\n",
        "model_3 = Sequential()\n",
        "model_3.add(Embedding(10000, N))\n",
        "model_3.add(Dropout(0.25))\n",
        "model_3.add(LSTM(K))\n",
        "model_3.add(Dropout(0.25))\n",
        "model_3.add(Dense(1, activation='sigmoid'))\n",
        "\n",
        "#組裝神經網路\n",
        "model_3.compile(loss = 'binary_crossentropy',\n",
        "               optimizer = 'adam',\n",
        "               metrics = ['accuracy'])\n",
        "\n",
        "#查看神經網路\n",
        "model_3.summary()\n",
        "\n",
        "#訓練\n",
        "model_3_out = model_3.fit(x_train, y_train,\n",
        "                          batch_size = 32,\n",
        "                          epochs=3,\n",
        "                          validation_data = (x_test, y_test))\n",
        "#檢查overfitting\n",
        "acc = model_3_out.history['acc']\n",
        "val_acc = model_3_out.history['val_acc']\n",
        "loss = model_3_out.history['loss']\n",
        "val_loss = model_3_out.history['val_loss']\n",
        "\n",
        "epochs = range(1, len(acc) + 1)\n",
        "\n",
        "plt.plot(epochs, loss, 'bo', label='Training loss')\n",
        "plt.plot(epochs, val_loss, 'b', label='Validation loss')\n",
        "plt.title('Training and validation loss')\n",
        "plt.xlabel('Epochs')\n",
        "plt.ylabel('Loss')\n",
        "plt.legend()"
      ],
      "execution_count": 26,
      "outputs": [
        {
          "output_type": "stream",
          "text": [
            "_________________________________________________________________\n",
            "Layer (type)                 Output Shape              Param #   \n",
            "=================================================================\n",
            "embedding_14 (Embedding)     (None, None, 10)          100000    \n",
            "_________________________________________________________________\n",
            "dropout_11 (Dropout)         (None, None, 10)          0         \n",
            "_________________________________________________________________\n",
            "lstm_12 (LSTM)               (None, 50)                12200     \n",
            "_________________________________________________________________\n",
            "dropout_12 (Dropout)         (None, 50)                0         \n",
            "_________________________________________________________________\n",
            "dense_12 (Dense)             (None, 1)                 51        \n",
            "=================================================================\n",
            "Total params: 112,251\n",
            "Trainable params: 112,251\n",
            "Non-trainable params: 0\n",
            "_________________________________________________________________\n",
            "Train on 25000 samples, validate on 25000 samples\n",
            "Epoch 1/3\n",
            "25000/25000 [==============================] - 101s 4ms/step - loss: 0.4417 - acc: 0.7820 - val_loss: 0.3433 - val_acc: 0.8550\n",
            "Epoch 2/3\n",
            "25000/25000 [==============================] - 95s 4ms/step - loss: 0.2682 - acc: 0.8941 - val_loss: 0.3358 - val_acc: 0.8604\n",
            "Epoch 3/3\n",
            "25000/25000 [==============================] - 97s 4ms/step - loss: 0.2234 - acc: 0.9144 - val_loss: 0.3281 - val_acc: 0.8602\n"
          ],
          "name": "stdout"
        },
        {
          "output_type": "execute_result",
          "data": {
            "text/plain": [
              "<matplotlib.legend.Legend at 0x7f4f1ea1ce10>"
            ]
          },
          "metadata": {
            "tags": []
          },
          "execution_count": 26
        },
        {
          "output_type": "display_data",
          "data": {
            "image/png": "[encoded data removed]",
            "text/plain": [
              "<Figure size 432x288 with 1 Axes>"
            ]
          },
          "metadata": {
            "tags": []
          }
        }
      ]
    },
    {
      "cell_type": "code",
      "metadata": {
        "id": "7VJ951CzmJyp",
        "colab_type": "code",
        "colab": {
          "base_uri": "https://localhost:8080/",
          "height": 51
        },
        "outputId": "1535bae6-6dbb-40da-e914-fac23ad95f31"
      },
      "source": [
        "score3 = model_3.evaluate(x_test, y_test)\n",
        "print(\"Model 3 Accuracy: %.2f%%\" % (score3[1]*100))"
      ],
      "execution_count": 38,
      "outputs": [
        {
          "output_type": "stream",
          "text": [
            "25000/25000 [==============================] - 12s 499us/step\n",
            "Model 3 Accuracy: 86.02%\n"
          ],
          "name": "stdout"
        }
      ]
    },
    {
      "cell_type": "markdown",
      "metadata": {
        "id": "rK5ZbO-fgIrx",
        "colab_type": "text"
      },
      "source": [
        "## 4-4 model4\n",
        "\n",
        "調整N/K後，準確率又提升了（86.02%），離87%不遠拉～！也許N/K再提高能夠在提升準確率！？\n",
        "\n",
        "＊＊此外，前面都是手動決定訓練次數，但model3&2發現也很難控制在哪裡val_acc能穩定上升，於是model4開始改成earlystopping來監測val_acc"
      ]
    },
    {
      "cell_type": "code",
      "metadata": {
        "id": "Vc42zvocTRt_",
        "colab_type": "code",
        "colab": {
          "base_uri": "https://localhost:8080/",
          "height": 462
        },
        "outputId": "15b0f7ff-bd49-4c1d-df99-42bbbf1b340a"
      },
      "source": [
        "from keras.callbacks import EarlyStopping\n",
        "# 參數設定\n",
        "N = 100 # 文字要壓到 N 維\n",
        "K = 100 # LSTM 有 K 個神經元\n",
        "\n",
        "#建構神經網路\n",
        "model_4 = Sequential()\n",
        "early_stopping = EarlyStopping(monitor='val_acc',\n",
        "                               verbose=2,\n",
        "                               mode='max',\n",
        "                               patience=1)\n",
        "model_4.add(Embedding(10000, N))\n",
        "model_4.add(Dropout(0.25))\n",
        "model_4.add(LSTM(K))\n",
        "model_4.add(Dropout(0.25))\n",
        "model_4.add(Dense(1, activation='sigmoid'))\n",
        "\n",
        "#組裝神經網路\n",
        "model_4.compile(loss = 'binary_crossentropy',\n",
        "               optimizer = 'adam',\n",
        "               metrics = ['accuracy'])\n",
        "\n",
        "#查看神經網路\n",
        "model_4.summary()\n",
        "\n",
        "#訓練\n",
        "model_4_out = model_4.fit(x_train, y_train,\n",
        "                          batch_size = 32,\n",
        "                          epochs=10,\n",
        "                          validation_data = (x_test, y_test),\n",
        "                          callbacks=[early_stopping])"
      ],
      "execution_count": 28,
      "outputs": [
        {
          "output_type": "stream",
          "text": [
            "_________________________________________________________________\n",
            "Layer (type)                 Output Shape              Param #   \n",
            "=================================================================\n",
            "embedding_16 (Embedding)     (None, None, 100)         1000000   \n",
            "_________________________________________________________________\n",
            "dropout_15 (Dropout)         (None, None, 100)         0         \n",
            "_________________________________________________________________\n",
            "lstm_14 (LSTM)               (None, 100)               80400     \n",
            "_________________________________________________________________\n",
            "dropout_16 (Dropout)         (None, 100)               0         \n",
            "_________________________________________________________________\n",
            "dense_14 (Dense)             (None, 1)                 101       \n",
            "=================================================================\n",
            "Total params: 1,080,501\n",
            "Trainable params: 1,080,501\n",
            "Non-trainable params: 0\n",
            "_________________________________________________________________\n",
            "Train on 25000 samples, validate on 25000 samples\n",
            "Epoch 1/10\n",
            "25000/25000 [==============================] - 173s 7ms/step - loss: 0.4180 - acc: 0.8033 - val_loss: 0.3226 - val_acc: 0.8636\n",
            "Epoch 2/10\n",
            "25000/25000 [==============================] - 168s 7ms/step - loss: 0.2607 - acc: 0.8963 - val_loss: 0.3130 - val_acc: 0.8656\n",
            "Epoch 3/10\n",
            "25000/25000 [==============================] - 169s 7ms/step - loss: 0.1885 - acc: 0.9303 - val_loss: 0.3528 - val_acc: 0.8534\n",
            "Epoch 00003: early stopping\n"
          ],
          "name": "stdout"
        }
      ]
    },
    {
      "cell_type": "code",
      "metadata": {
        "id": "3iZkRiGSVNeM",
        "colab_type": "code",
        "colab": {
          "base_uri": "https://localhost:8080/",
          "height": 51
        },
        "outputId": "65ed1996-1baf-42e3-8dda-91581909193f"
      },
      "source": [
        "score4 = model_4.evaluate(x_test, y_test)\n",
        "print(\"Accuracy: %.2f%%\" % (score4[1]*100))"
      ],
      "execution_count": 35,
      "outputs": [
        {
          "output_type": "stream",
          "text": [
            "25000/25000 [==============================] - 27s 1ms/step\n",
            "Accuracy: 85.34%\n"
          ],
          "name": "stdout"
        }
      ]
    },
    {
      "cell_type": "markdown",
      "metadata": {
        "id": "wD1M_JZslRvH",
        "colab_type": "text"
      },
      "source": [
        "## 4-5model5\n",
        "\n",
        "由於過大的N/K並沒有提升準確率，反而下降，所以把它先調回來，並且更改dropout的比率，看能不能提升"
      ]
    },
    {
      "cell_type": "code",
      "metadata": {
        "id": "Gl0sJclukWHV",
        "colab_type": "code",
        "colab": {
          "base_uri": "https://localhost:8080/",
          "height": 462
        },
        "outputId": "103f967c-2cf7-416a-f574-164c8c914a11"
      },
      "source": [
        "# 參數設定\n",
        "N = 10 # 文字要壓到 N 維\n",
        "K = 50 # LSTM 有 K 個神經元\n",
        "\n",
        "#建構神經網路\n",
        "model_5 = Sequential()\n",
        "early_stopping = EarlyStopping(monitor='val_acc',\n",
        "                               verbose=2,\n",
        "                               mode='max',\n",
        "                               patience=1)\n",
        "model_5.add(Embedding(10000, N))\n",
        "model_5.add(Dropout(0.5))\n",
        "model_5.add(LSTM(K))\n",
        "model_5.add(Dropout(0.25))\n",
        "model_5.add(Dense(1, activation='sigmoid'))\n",
        "\n",
        "#組裝神經網路\n",
        "model_5.compile(loss = 'binary_crossentropy',\n",
        "               optimizer = 'adam',\n",
        "               metrics = ['accuracy'])\n",
        "\n",
        "#查看神經網路\n",
        "model_5.summary()\n",
        "\n",
        "#訓練\n",
        "model_5_out = model_5.fit(x_train, y_train,\n",
        "                          batch_size = 32,\n",
        "                          epochs=10,\n",
        "                          validation_data = (x_test, y_test),\n",
        "                          callbacks=[early_stopping])"
      ],
      "execution_count": 40,
      "outputs": [
        {
          "output_type": "stream",
          "text": [
            "_________________________________________________________________\n",
            "Layer (type)                 Output Shape              Param #   \n",
            "=================================================================\n",
            "embedding_18 (Embedding)     (None, None, 10)          100000    \n",
            "_________________________________________________________________\n",
            "dropout_19 (Dropout)         (None, None, 10)          0         \n",
            "_________________________________________________________________\n",
            "lstm_16 (LSTM)               (None, 50)                12200     \n",
            "_________________________________________________________________\n",
            "dropout_20 (Dropout)         (None, 50)                0         \n",
            "_________________________________________________________________\n",
            "dense_16 (Dense)             (None, 1)                 51        \n",
            "=================================================================\n",
            "Total params: 112,251\n",
            "Trainable params: 112,251\n",
            "Non-trainable params: 0\n",
            "_________________________________________________________________\n",
            "Train on 25000 samples, validate on 25000 samples\n",
            "Epoch 1/10\n",
            "25000/25000 [==============================] - 101s 4ms/step - loss: 0.4980 - acc: 0.7392 - val_loss: 0.3892 - val_acc: 0.8212\n",
            "Epoch 2/10\n",
            "25000/25000 [==============================] - 95s 4ms/step - loss: 0.2983 - acc: 0.8790 - val_loss: 0.3083 - val_acc: 0.8686\n",
            "Epoch 3/10\n",
            "25000/25000 [==============================] - 95s 4ms/step - loss: 0.2531 - acc: 0.9002 - val_loss: 0.3288 - val_acc: 0.8627\n",
            "Epoch 00003: early stopping\n"
          ],
          "name": "stdout"
        }
      ]
    },
    {
      "cell_type": "code",
      "metadata": {
        "id": "yEAAZMFwlihP",
        "colab_type": "code",
        "colab": {
          "base_uri": "https://localhost:8080/",
          "height": 51
        },
        "outputId": "3d439f93-cc11-464d-9105-529b8de205e9"
      },
      "source": [
        "score5 = model_5.evaluate(x_test, y_test)\n",
        "print(\"Model 5 Accuracy: %.2f%%\" % (score5[1]*100))"
      ],
      "execution_count": 41,
      "outputs": [
        {
          "output_type": "stream",
          "text": [
            "25000/25000 [==============================] - 13s 520us/step\n",
            "Model 5 Accuracy: 86.27%\n"
          ],
          "name": "stdout"
        }
      ]
    },
    {
      "cell_type": "markdown",
      "metadata": {
        "id": "llLGwSfZ28Xw",
        "colab_type": "text"
      },
      "source": [
        "## 4-6 model6\n",
        "\n",
        "調低第二次dropout"
      ]
    },
    {
      "cell_type": "code",
      "metadata": {
        "id": "xwPezKNamqy8",
        "colab_type": "code",
        "colab": {
          "base_uri": "https://localhost:8080/",
          "height": 496
        },
        "outputId": "e31bb443-298e-4f5b-ac12-8eab39a0a803"
      },
      "source": [
        "# 參數設定\n",
        "N = 10 # 文字要壓到 N 維\n",
        "K = 50 # LSTM 有 K 個神經元\n",
        "\n",
        "#建構神經網路\n",
        "model_6 = Sequential()\n",
        "early_stopping = EarlyStopping(monitor='val_acc',\n",
        "                               verbose=2,\n",
        "                               mode='max',\n",
        "                               patience=1)\n",
        "model_6.add(Embedding(10000, N))\n",
        "model_6.add(Dropout(0.5))\n",
        "model_6.add(LSTM(K))\n",
        "model_6.add(Dropout(0.1))\n",
        "model_6.add(Dense(1, activation='sigmoid'))\n",
        "\n",
        "#組裝神經網路\n",
        "model_6.compile(loss = 'binary_crossentropy',\n",
        "               optimizer = 'adam',\n",
        "               metrics = ['accuracy'])\n",
        "\n",
        "#查看神經網路\n",
        "model_6.summary()\n",
        "\n",
        "#訓練\n",
        "model_6_out = model_6.fit(x_train, y_train,\n",
        "                          batch_size = 32,\n",
        "                          epochs=10,\n",
        "                          validation_data = (x_test, y_test),\n",
        "                          callbacks=[early_stopping])\n",
        "\n",
        "score6 = model_6.evaluate(x_test, y_test)\n",
        "print(\"Model 6 Accuracy: %.2f%%\" % (score6[1]*100))"
      ],
      "execution_count": 43,
      "outputs": [
        {
          "output_type": "stream",
          "text": [
            "_________________________________________________________________\n",
            "Layer (type)                 Output Shape              Param #   \n",
            "=================================================================\n",
            "embedding_20 (Embedding)     (None, None, 10)          100000    \n",
            "_________________________________________________________________\n",
            "dropout_23 (Dropout)         (None, None, 10)          0         \n",
            "_________________________________________________________________\n",
            "lstm_18 (LSTM)               (None, 50)                12200     \n",
            "_________________________________________________________________\n",
            "dropout_24 (Dropout)         (None, 50)                0         \n",
            "_________________________________________________________________\n",
            "dense_18 (Dense)             (None, 1)                 51        \n",
            "=================================================================\n",
            "Total params: 112,251\n",
            "Trainable params: 112,251\n",
            "Non-trainable params: 0\n",
            "_________________________________________________________________\n",
            "Train on 25000 samples, validate on 25000 samples\n",
            "Epoch 1/10\n",
            "25000/25000 [==============================] - 91s 4ms/step - loss: 0.4601 - acc: 0.7629 - val_loss: 0.3182 - val_acc: 0.8655\n",
            "Epoch 2/10\n",
            "25000/25000 [==============================] - 85s 3ms/step - loss: 0.2865 - acc: 0.8854 - val_loss: 0.3083 - val_acc: 0.8712\n",
            "Epoch 3/10\n",
            "25000/25000 [==============================] - 86s 3ms/step - loss: 0.2476 - acc: 0.9041 - val_loss: 0.3127 - val_acc: 0.8684\n",
            "Epoch 00003: early stopping\n",
            "25000/25000 [==============================] - 12s 494us/step\n",
            "Model 6 Accuracy: 86.84%\n"
          ],
          "name": "stdout"
        }
      ]
    },
    {
      "cell_type": "markdown",
      "metadata": {
        "id": "WJTPElxD3FBp",
        "colab_type": "text"
      },
      "source": [
        "## 4-7 model7 把第二次dropout刪除"
      ]
    },
    {
      "cell_type": "code",
      "metadata": {
        "id": "6y-dyFJ_oyeA",
        "colab_type": "code",
        "colab": {
          "base_uri": "https://localhost:8080/",
          "height": 462
        },
        "outputId": "5fc876ef-1490-402c-dbd1-4496a575f6d1"
      },
      "source": [
        "# 參數設定\n",
        "N = 10 # 文字要壓到 N 維\n",
        "K = 50 # LSTM 有 K 個神經元\n",
        "\n",
        "#建構神經網路\n",
        "model_7 = Sequential()\n",
        "early_stopping = EarlyStopping(monitor='val_acc',\n",
        "                               verbose=2,\n",
        "                               mode='max',\n",
        "                               patience=1)\n",
        "model_7.add(Embedding(10000, N))\n",
        "model_7.add(Dropout(0.5))\n",
        "model_7.add(LSTM(K))\n",
        "# model_7.add(Dropout(0.1))\n",
        "model_7.add(Dense(1, activation='sigmoid'))\n",
        "\n",
        "#組裝神經網路\n",
        "model_7.compile(loss = 'binary_crossentropy',\n",
        "               optimizer = 'adam',\n",
        "               metrics = ['accuracy'])\n",
        "\n",
        "#查看神經網路\n",
        "model_7.summary()\n",
        "\n",
        "#訓練\n",
        "model_7_out = model_7.fit(x_train, y_train,\n",
        "                          batch_size = 32,\n",
        "                          epochs=10,\n",
        "                          validation_data = (x_test, y_test),\n",
        "                          callbacks=[early_stopping])\n",
        "\n",
        "score7 = model_7.evaluate(x_test, y_test)\n",
        "print(\"Model 7 Accuracy: %.2f%%\" % (score7[1]*100))"
      ],
      "execution_count": 44,
      "outputs": [
        {
          "output_type": "stream",
          "text": [
            "_________________________________________________________________\n",
            "Layer (type)                 Output Shape              Param #   \n",
            "=================================================================\n",
            "embedding_21 (Embedding)     (None, None, 10)          100000    \n",
            "_________________________________________________________________\n",
            "dropout_25 (Dropout)         (None, None, 10)          0         \n",
            "_________________________________________________________________\n",
            "lstm_19 (LSTM)               (None, 50)                12200     \n",
            "_________________________________________________________________\n",
            "dense_19 (Dense)             (None, 1)                 51        \n",
            "=================================================================\n",
            "Total params: 112,251\n",
            "Trainable params: 112,251\n",
            "Non-trainable params: 0\n",
            "_________________________________________________________________\n",
            "Train on 25000 samples, validate on 25000 samples\n",
            "Epoch 1/10\n",
            "25000/25000 [==============================] - 92s 4ms/step - loss: 0.4419 - acc: 0.7858 - val_loss: 0.3555 - val_acc: 0.8521\n",
            "Epoch 2/10\n",
            "25000/25000 [==============================] - 94s 4ms/step - loss: 0.2887 - acc: 0.8841 - val_loss: 0.3133 - val_acc: 0.8674\n",
            "Epoch 3/10\n",
            "25000/25000 [==============================] - 95s 4ms/step - loss: 0.2536 - acc: 0.8992 - val_loss: 0.3192 - val_acc: 0.8614\n",
            "Epoch 00003: early stopping\n",
            "25000/25000 [==============================] - 14s 556us/step\n",
            "Model 7 Accuracy: 86.14%\n"
          ],
          "name": "stdout"
        }
      ]
    },
    {
      "cell_type": "markdown",
      "metadata": {
        "id": "HG9FcyE-3MwF",
        "colab_type": "text"
      },
      "source": [
        "## 4-8 model8 調高maxlen的數值"
      ]
    },
    {
      "cell_type": "code",
      "metadata": {
        "id": "g-a6_K8-rasG",
        "colab_type": "code",
        "colab": {
          "base_uri": "https://localhost:8080/",
          "height": 496
        },
        "outputId": "56a15463-a15c-4f45-edf8-d002217c4b1b"
      },
      "source": [
        "# 參數設定\n",
        "x_train8 = sequence.pad_sequences(x_train0, maxlen = 200)\n",
        "x_test8 = sequence.pad_sequences(x_test0, maxlen = 200)\n",
        "N = 10 # 文字要壓到 N 維\n",
        "K = 50 # LSTM 有 K 個神經元\n",
        "\n",
        "#建構神經網路\n",
        "model_8 = Sequential()\n",
        "early_stopping = EarlyStopping(monitor='val_acc',\n",
        "                               verbose=2,\n",
        "                               mode='max',\n",
        "                               patience=1)\n",
        "model_8.add(Embedding(10000, N))\n",
        "model_8.add(Dropout(0.5))\n",
        "model_8.add(LSTM(K))\n",
        "model_8.add(Dropout(0.1))\n",
        "model_8.add(Dense(1, activation='sigmoid'))\n",
        "\n",
        "#組裝神經網路\n",
        "model_8.compile(loss = 'binary_crossentropy',\n",
        "               optimizer = 'adam',\n",
        "               metrics = ['accuracy'])\n",
        "\n",
        "#查看神經網路\n",
        "model_8.summary()\n",
        "\n",
        "#訓練\n",
        "model_8_out = model_8.fit(x_train8, y_train,\n",
        "                          batch_size = 32,\n",
        "                          epochs=10,\n",
        "                          validation_data = (x_test8, y_test),\n",
        "                          callbacks=[early_stopping])\n",
        "\n",
        "score8 = model_8.evaluate(x_test, y_test)\n",
        "print(\"Model 8 Accuracy: %.2f%%\" % (score8[1]*100))"
      ],
      "execution_count": 55,
      "outputs": [
        {
          "output_type": "stream",
          "text": [
            "_________________________________________________________________\n",
            "Layer (type)                 Output Shape              Param #   \n",
            "=================================================================\n",
            "embedding_31 (Embedding)     (None, None, 10)          100000    \n",
            "_________________________________________________________________\n",
            "dropout_44 (Dropout)         (None, None, 10)          0         \n",
            "_________________________________________________________________\n",
            "lstm_29 (LSTM)               (None, 50)                12200     \n",
            "_________________________________________________________________\n",
            "dropout_45 (Dropout)         (None, 50)                0         \n",
            "_________________________________________________________________\n",
            "dense_29 (Dense)             (None, 1)                 51        \n",
            "=================================================================\n",
            "Total params: 112,251\n",
            "Trainable params: 112,251\n",
            "Non-trainable params: 0\n",
            "_________________________________________________________________\n",
            "Train on 25000 samples, validate on 25000 samples\n",
            "Epoch 1/10\n",
            "25000/25000 [==============================] - 132s 5ms/step - loss: 0.5193 - acc: 0.7153 - val_loss: 0.3801 - val_acc: 0.8361\n",
            "Epoch 2/10\n",
            "25000/25000 [==============================] - 124s 5ms/step - loss: 0.3030 - acc: 0.8771 - val_loss: 0.2988 - val_acc: 0.8748\n",
            "Epoch 3/10\n",
            "25000/25000 [==============================] - 123s 5ms/step - loss: 0.2451 - acc: 0.9046 - val_loss: 0.3222 - val_acc: 0.8678\n",
            "Epoch 00003: early stopping\n",
            "25000/25000 [==============================] - 14s 578us/step\n",
            "Model 8 Accuracy: 86.22%\n"
          ],
          "name": "stdout"
        }
      ]
    },
    {
      "cell_type": "code",
      "metadata": {
        "id": "s6dfmwCyswtR",
        "colab_type": "code",
        "colab": {}
      },
      "source": [
        ""
      ],
      "execution_count": 0,
      "outputs": []
    },
    {
      "cell_type": "markdown",
      "metadata": {
        "id": "4jw_LoTZ3dfa",
        "colab_type": "text"
      },
      "source": [
        "# 5.結論\n",
        "\n",
        "無論如何都無法達到87%QQQQQQQQQQ\n",
        "\n",
        "但還是歸納幾個結論\n",
        "\n",
        "* 調高N/K值有用，但是調太高反而有反效果\n",
        "* 調高第一次dropout能夠提高準確率，第二次dropout要降低才行，但不能刪除\n",
        "* 增加dropout能夠降低fitover的狀況\n",
        "* model6的狀況最佳！"
      ]
    },
    {
      "cell_type": "markdown",
      "metadata": {
        "id": "cEU-rpxd3hBV",
        "colab_type": "text"
      },
      "source": [
        ""
      ]
    },
    {
      "cell_type": "code",
      "metadata": {
        "id": "pCDxMUTu3gP_",
        "colab_type": "code",
        "colab": {}
      },
      "source": [
        ""
      ],
      "execution_count": 0,
      "outputs": []
    }
  ]
}