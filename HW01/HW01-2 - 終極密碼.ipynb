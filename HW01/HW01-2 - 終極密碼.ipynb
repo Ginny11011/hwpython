{
 "cells": [
  {
   "cell_type": "code",
   "execution_count": null,
   "metadata": {},
   "outputs": [
    {
     "name": "stdout",
     "output_type": "stream",
     "text": [
      "幾位玩家？3\n",
      "玩家1請輸入0~100的數字93\n",
      "玩家2請輸入0~93的數字29\n",
      "玩家3請輸入29~93的數字48\n",
      "玩家1請輸入48~93的數字59\n",
      "玩家2請輸入59~93的數字83\n",
      "玩家3請輸入83~93的數字74\n",
      "不要作弊！請輸入在範圍內！！\n",
      "玩家3請輸入83~93的數字88\n",
      "玩家1請輸入88~93的數字92\n",
      "玩家2請輸入88~92的數字90\n",
      "遊戲結束，玩家2輸了！哈哈哈哈～！\n",
      "=====================================\n",
      "幾位玩家？0\n"
     ]
    }
   ],
   "source": [
    "# 終極密碼\n",
    "# 遊戲規則：玩家們先輸入總共幾個人玩遊戲，之後論留猜數字，猜中的就輸了！\n",
    "import random\n",
    "def tell(player , max_n , min_n):\n",
    "    global min , max , flag\n",
    "    while True:\n",
    "        ans = int(input(\"玩家\"+str(player)+\"請輸入\"+str(min)+\"~\"+str(max)+\"的數字\"))\n",
    "        if ans == bomb:\n",
    "            flag = False\n",
    "            break\n",
    "        elif ans > bomb and min < ans < max:\n",
    "            max = ans\n",
    "            break\n",
    "        elif ans < bomb and min < ans < max:\n",
    "            min = ans\n",
    "            break\n",
    "        else:print(\"不要作弊！請輸入在範圍內！！\")\n",
    "\n",
    "while True:\n",
    "    players = int(input(\"幾位玩家？\"))\n",
    "    bomb = random.randrange(0, 100)\n",
    "    max = 100\n",
    "    min = 0\n",
    "    flag = True\n",
    "    while flag == True:\n",
    "        for i in range(1, players+1):\n",
    "            tell(i, max , min)\n",
    "            if flag == False:\n",
    "                print(\"遊戲結束，玩家\"+str(i)+\"輸了！哈哈哈哈～！\")\n",
    "                print(\"=====================================\")\n",
    "                break"
   ]
  },
  {
   "cell_type": "code",
   "execution_count": null,
   "metadata": {},
   "outputs": [],
   "source": []
  }
 ],
 "metadata": {
  "kernelspec": {
   "display_name": "Python 3",
   "language": "python",
   "name": "python3"
  },
  "language_info": {
   "codemirror_mode": {
    "name": "ipython",
    "version": 3
   },
   "file_extension": ".py",
   "mimetype": "text/x-python",
   "name": "python",
   "nbconvert_exporter": "python",
   "pygments_lexer": "ipython3",
   "version": "3.7.0"
  }
 },
 "nbformat": 4,
 "nbformat_minor": 2
}
