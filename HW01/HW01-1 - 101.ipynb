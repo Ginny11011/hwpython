{
 "cells": [
  {
   "cell_type": "code",
   "execution_count": 53,
   "metadata": {},
   "outputs": [
    {
     "data": {
      "text/plain": [
       "[<matplotlib.lines.Line2D at 0x1213dd7b8>]"
      ]
     },
     "execution_count": 53,
     "metadata": {},
     "output_type": "execute_result"
    },
    {
     "data": {
      "image/png": "[encoded data removed]",
      "text/plain": [
       "<Figure size 432x288 with 1 Axes>"
      ]
     },
     "metadata": {
      "needs_background": "light"
     },
     "output_type": "display_data"
    }
   ],
   "source": [
    "%matplotlib inline\n",
    "\n",
    "import matplotlib.pyplot as plt\n",
    "import numpy as np\n",
    "\n",
    "x1 = [10,12,16,18]\n",
    "x2 = [10,18]\n",
    "H = 10\n",
    "for i in range(0,4):\n",
    "    plt.plot(x1 , [30 + H*i,20 + H*i,20 + H*i,30 + H*i] , color = \"black\")\n",
    "    plt.plot(x2 , [30 + H*i,30 + H*i] , color = \"black\")\n",
    "x3 = [10,12,16,18]\n",
    "y3 = [0,20,20,0]\n",
    "plt.plot(x3 , y3 , color = \"black\")\n",
    "\n",
    "start = 12\n",
    "end   = 16\n",
    "cut = (end - start)/2.6\n",
    "x4 = [start,start,start+cut,start+cut,end-cut,end-cut,end,end]\n",
    "y4 = [60,65,65,70,70,65,65,60]\n",
    "plt.plot(x4 , y4 , color = \"black\")\n",
    "\n",
    "x5 = [(start+end) / 2,(start+end) / 2]\n",
    "y5 = [70,75]\n",
    "plt.plot(x5 , y5 , color = \"black\")\n",
    "\n",
    "\n",
    "# 月亮\n",
    "a = np.arange(0 , 2*np.pi,0.01)\n",
    "xm = 28 + 3*np.cos(a)\n",
    "ym = 75 + 8*np.sin(a)\n",
    "plt.plot(xm , ym , color = \"yellow\")\n",
    "\n",
    "# 樹\n",
    "a = np.arange(0 , 2*np.pi,0.01)\n",
    "x_tree = -6 + 1.6*np.cos(a)\n",
    "y_tree = 15 + 6*np.sin(a)\n",
    "for i in [5,10]:\n",
    "    plt.plot(x_tree+i , y_tree , color = \"green\")\n",
    "plt.plot([-1,-1],[0,9],color = \"brown\")\n",
    "plt.plot([4,4],[0,9],color = \"brown\")\n",
    "\n",
    "#地平線\n",
    "plt.plot([-7,38],[0,0],color = \"black\")"
   ]
  },
  {
   "cell_type": "code",
   "execution_count": null,
   "metadata": {},
   "outputs": [],
   "source": []
  }
 ],
 "metadata": {
  "kernelspec": {
   "display_name": "Python 3",
   "language": "python",
   "name": "python3"
  },
  "language_info": {
   "codemirror_mode": {
    "name": "ipython",
    "version": 3
   },
   "file_extension": ".py",
   "mimetype": "text/x-python",
   "name": "python",
   "nbconvert_exporter": "python",
   "pygments_lexer": "ipython3",
   "version": "3.7.0"
  }
 },
 "nbformat": 4,
 "nbformat_minor": 2
}
