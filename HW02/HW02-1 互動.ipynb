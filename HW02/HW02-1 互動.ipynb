{
 "cells": [
  {
   "cell_type": "code",
   "execution_count": 1,
   "metadata": {},
   "outputs": [
    {
     "data": {
      "application/vnd.jupyter.widget-view+json": {
       "model_id": "769f3cedecd148a68edda9566ae45cd1",
       "version_major": 2,
       "version_minor": 0
      },
      "text/plain": [
       "interactive(children=(IntSlider(value=4, description='height', max=8, min=1), IntSlider(value=3, description='…"
      ]
     },
     "metadata": {},
     "output_type": "display_data"
    }
   ],
   "source": [
    "import numpy as np\n",
    "import matplotlib.pyplot as plt\n",
    "from ipywidgets import interact\n",
    "import matplotlib.patches as mpatches\n",
    "\n",
    "def man(height,weight,colors,r,g,b):\n",
    "    '''製作一個人，可以改變胖瘦/身高/膚色/衣服顏色'''\n",
    "    fig, ax = plt.subplots()\n",
    "    fig = plt.figure(figsize = (5,5))\n",
    "    # 臉\n",
    "    xy1 = np.array([2, 3])\n",
    "    circle = mpatches.Circle(xy1, 1, color = colors)\n",
    "    ax.add_patch(circle)\n",
    "    # 腳\n",
    "    xy3 = np.array([1.5, -2.3-(height/2)])\n",
    "    rectangle = mpatches.Rectangle(xy3, 0.3, height, color= \"#6FA3BD\")\n",
    "    ax.add_patch(rectangle)\n",
    "    xy4 = np.array([2.2, -2.3-(height/2)])\n",
    "    rectangle = mpatches.Rectangle(xy4, 0.3, height, color= \"#6FA3BD\")\n",
    "    ax.add_patch(rectangle)\n",
    "    # 身體\n",
    "    xy2 = np.array([2, 0])\n",
    "    color_of_clothes = (r,g,b)\n",
    "    ellipse = mpatches.Ellipse(xy2, 2*weight, 2*2, color= '#%02x%02x%02x' % color_of_clothes)\n",
    "    ax.add_patch(ellipse)\n",
    "    \n",
    "    ax.axis(\"equal\")\n",
    "    \n",
    "interact(man, height=(1,8) , weight = (1,5) , \n",
    "         colors = {1:\"#E8CAB3\",2:'#DDB594',3:'#C5A47E',4:'#C4907C',5:'#945F51',6:'#6F5654'},\n",
    "         r = (0,255), g = (0,255), b = (0,255));\n"
   ]
  },
  {
   "cell_type": "code",
   "execution_count": null,
   "metadata": {},
   "outputs": [],
   "source": []
  }
 ],
 "metadata": {
  "kernelspec": {
   "display_name": "Python 3",
   "language": "python",
   "name": "python3"
  },
  "language_info": {
   "codemirror_mode": {
    "name": "ipython",
    "version": 3
   },
   "file_extension": ".py",
   "mimetype": "text/x-python",
   "name": "python",
   "nbconvert_exporter": "python",
   "pygments_lexer": "ipython3",
   "version": "3.7.0"
  }
 },
 "nbformat": 4,
 "nbformat_minor": 2
}
