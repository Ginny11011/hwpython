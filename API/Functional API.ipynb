{
  "nbformat": 4,
  "nbformat_minor": 0,
  "metadata": {
    "colab": {
      "name": "Untitled0.ipynb",
      "version": "0.3.2",
      "provenance": []
    },
    "kernelspec": {
      "name": "python3",
      "display_name": "Python 3"
    }
  },
  "cells": [
    {
      "metadata": {
        "id": "3qg310rKzg-M",
        "colab_type": "text"
      },
      "cell_type": "markdown",
      "source": [
        "## 1. 初始準備"
      ]
    },
    {
      "metadata": {
        "id": "Ws7ZgSwBzGC8",
        "colab_type": "code",
        "colab": {
          "base_uri": "https://localhost:8080/",
          "height": 34
        },
        "outputId": "b2068291-931c-46d4-f80e-3e5e3a256b9c"
      },
      "cell_type": "code",
      "source": [
        "%env KERAS_BACKEND = tensorflow"
      ],
      "execution_count": 1,
      "outputs": [
        {
          "output_type": "stream",
          "text": [
            "env: KERAS_BACKEND=tensorflow\n"
          ],
          "name": "stdout"
        }
      ]
    },
    {
      "metadata": {
        "id": "zSMPTBj2zvuH",
        "colab_type": "code",
        "colab": {
          "base_uri": "https://localhost:8080/",
          "height": 34
        },
        "outputId": "4f2c6846-5bf3-43da-de33-ae15eae1d76b"
      },
      "cell_type": "code",
      "source": [
        "%matplotlib inline\n",
        "\n",
        "import matplotlib.pyplot as plt\n",
        "import numpy as np\n",
        "import pandas as pd\n",
        "from ipywidgets import interact, IntSlider, Button\n",
        "\n",
        "#Keras function\n",
        "from keras.models import Sequential\n",
        "from keras.layers import Dense, Activation\n",
        "from keras.optimizers import SGD"
      ],
      "execution_count": 2,
      "outputs": [
        {
          "output_type": "stream",
          "text": [
            "Using TensorFlow backend.\n"
          ],
          "name": "stderr"
        }
      ]
    },
    {
      "metadata": {
        "id": "tsoK51-o0TTw",
        "colab_type": "text"
      },
      "cell_type": "markdown",
      "source": [
        "## 2. 讀入MNIST數據庫&整理"
      ]
    },
    {
      "metadata": {
        "id": "5aoIEutZFxIY",
        "colab_type": "text"
      },
      "cell_type": "markdown",
      "source": [
        "### 2-1 讀入數據庫"
      ]
    },
    {
      "metadata": {
        "id": "jSPxRxaH0XFq",
        "colab_type": "code",
        "colab": {
          "base_uri": "https://localhost:8080/",
          "height": 51
        },
        "outputId": "667bb3af-d788-4827-9ee4-1bcbde883d76"
      },
      "cell_type": "code",
      "source": [
        "#Keras dataset\n",
        "from keras.datasets import mnist\n",
        "\n",
        "from keras.utils import to_categorical\n",
        "\n",
        "(x_train0, y_train0), (x_test0, y_test0) = mnist.load_data()\n",
        "\n",
        "print('There are %d training data with size %d X %d' % x_train0.shape)\n",
        "print('There are %d testing data with size %d X %d' % x_test0.shape)"
      ],
      "execution_count": 3,
      "outputs": [
        {
          "output_type": "stream",
          "text": [
            "There are 60000 training data with size 28 X 28\n",
            "There are 10000 testing data with size 28 X 28\n"
          ],
          "name": "stdout"
        }
      ]
    },
    {
      "metadata": {
        "id": "-oM5FH9bF2rG",
        "colab_type": "text"
      },
      "cell_type": "markdown",
      "source": [
        "### 2-2 整理輸入輸出的格式"
      ]
    },
    {
      "metadata": {
        "id": "_lm2U9ZB1A7N",
        "colab_type": "code",
        "colab": {}
      },
      "cell_type": "code",
      "source": [
        "x_train = x_train0.reshape(60000, 28*28)\n",
        "x_test = x_test0.reshape(10000, 28*28)"
      ],
      "execution_count": 0,
      "outputs": []
    },
    {
      "metadata": {
        "id": "VpaQf6gO1WPF",
        "colab_type": "code",
        "colab": {}
      },
      "cell_type": "code",
      "source": [
        "x_train = (x_train - x_train.min())/(x_train.max() - x_train.min())\n",
        "x_test = (x_test - x_test.min())/(x_test.max() - x_test.min())"
      ],
      "execution_count": 0,
      "outputs": []
    },
    {
      "metadata": {
        "id": "642WavNf1qC3",
        "colab_type": "code",
        "colab": {}
      },
      "cell_type": "code",
      "source": [
        "y_train = to_categorical(y_train0, 10)\n",
        "y_test = to_categorical(y_test0, 10)"
      ],
      "execution_count": 0,
      "outputs": []
    },
    {
      "metadata": {
        "id": "HteMVIu12O43",
        "colab_type": "text"
      },
      "cell_type": "markdown",
      "source": [
        "## 3. Function API "
      ]
    },
    {
      "metadata": {
        "id": "eIqPXPiJ2LKq",
        "colab_type": "code",
        "colab": {}
      },
      "cell_type": "code",
      "source": [
        "from keras.models import Model\n",
        "from keras.layers import Input\n",
        "from keras.layers import concatenate, add"
      ],
      "execution_count": 0,
      "outputs": []
    },
    {
      "metadata": {
        "id": "lOCoi7Vf2bVk",
        "colab_type": "text"
      },
      "cell_type": "markdown",
      "source": [
        "### 3-1 決定神經網路模型\n",
        "\n",
        "<img src=\"api.png\" alt=\"drawing\" style=\"width: 400px;\"/>"
      ]
    },
    {
      "metadata": {
        "id": "pxqz1AcGGDZa",
        "colab_type": "text"
      },
      "cell_type": "markdown",
      "source": [
        "### 3-2 決定函數與變數 "
      ]
    },
    {
      "metadata": {
        "id": "vniBUA3L2abX",
        "colab_type": "code",
        "colab": {}
      },
      "cell_type": "code",
      "source": [
        "x = Input(shape=(784, ))\n",
        "\n",
        "f1 = Dense(300, activation='relu')\n",
        "f2 = Dense(300, activation='relu')\n",
        "\n",
        "f3 = Dense(20, activation='relu')\n",
        "f4 = Dense(20, activation='relu')\n",
        "f5 = Dense(20, activation='relu')\n",
        "f6 = Dense(20, activation='relu')\n",
        "\n",
        "f7 = Dense(10, activation='softmax')"
      ],
      "execution_count": 0,
      "outputs": []
    },
    {
      "metadata": {
        "id": "RosDcUYi8CkQ",
        "colab_type": "code",
        "colab": {
          "base_uri": "https://localhost:8080/",
          "height": 88
        },
        "outputId": "f85acf3e-433f-46bf-fa3a-6729359a4df4"
      },
      "cell_type": "code",
      "source": [
        "h11 = f1(x)\n",
        "h12 = f2(x)\n",
        "\n",
        "h2  = concatenate([h11, h12])\n",
        "\n",
        "h31 = f3(h2)\n",
        "h32 = f4(h2)\n",
        "h33 = f5(h2)\n",
        "h34 = f6(h2)\n",
        "h4  = concatenate([h31, h32, h33, h34])\n",
        "y   = f7(h4)"
      ],
      "execution_count": 9,
      "outputs": [
        {
          "output_type": "stream",
          "text": [
            "WARNING:tensorflow:From /usr/local/lib/python3.6/dist-packages/tensorflow/python/framework/op_def_library.py:263: colocate_with (from tensorflow.python.framework.ops) is deprecated and will be removed in a future version.\n",
            "Instructions for updating:\n",
            "Colocations handled automatically by placer.\n"
          ],
          "name": "stdout"
        }
      ]
    },
    {
      "metadata": {
        "id": "jVymhI-eGJ3B",
        "colab_type": "text"
      },
      "cell_type": "markdown",
      "source": [
        "### 3-3 建立模型架構 "
      ]
    },
    {
      "metadata": {
        "id": "fQrwX99Q-ts-",
        "colab_type": "code",
        "colab": {
          "base_uri": "https://localhost:8080/",
          "height": 564
        },
        "outputId": "12bc0e72-dbc4-4705-d7f8-eb45d7d95bb4"
      },
      "cell_type": "code",
      "source": [
        "model = Model(x, y)\n",
        "model.summary()"
      ],
      "execution_count": 10,
      "outputs": [
        {
          "output_type": "stream",
          "text": [
            "__________________________________________________________________________________________________\n",
            "Layer (type)                    Output Shape         Param #     Connected to                     \n",
            "==================================================================================================\n",
            "input_1 (InputLayer)            (None, 784)          0                                            \n",
            "__________________________________________________________________________________________________\n",
            "dense_1 (Dense)                 (None, 300)          235500      input_1[0][0]                    \n",
            "__________________________________________________________________________________________________\n",
            "dense_2 (Dense)                 (None, 300)          235500      input_1[0][0]                    \n",
            "__________________________________________________________________________________________________\n",
            "concatenate_1 (Concatenate)     (None, 600)          0           dense_1[0][0]                    \n",
            "                                                                 dense_2[0][0]                    \n",
            "__________________________________________________________________________________________________\n",
            "dense_3 (Dense)                 (None, 20)           12020       concatenate_1[0][0]              \n",
            "__________________________________________________________________________________________________\n",
            "dense_4 (Dense)                 (None, 20)           12020       concatenate_1[0][0]              \n",
            "__________________________________________________________________________________________________\n",
            "dense_5 (Dense)                 (None, 20)           12020       concatenate_1[0][0]              \n",
            "__________________________________________________________________________________________________\n",
            "dense_6 (Dense)                 (None, 20)           12020       concatenate_1[0][0]              \n",
            "__________________________________________________________________________________________________\n",
            "concatenate_2 (Concatenate)     (None, 80)           0           dense_3[0][0]                    \n",
            "                                                                 dense_4[0][0]                    \n",
            "                                                                 dense_5[0][0]                    \n",
            "                                                                 dense_6[0][0]                    \n",
            "__________________________________________________________________________________________________\n",
            "dense_7 (Dense)                 (None, 10)           810         concatenate_2[0][0]              \n",
            "==================================================================================================\n",
            "Total params: 519,890\n",
            "Trainable params: 519,890\n",
            "Non-trainable params: 0\n",
            "__________________________________________________________________________________________________\n"
          ],
          "name": "stdout"
        }
      ]
    },
    {
      "metadata": {
        "id": "Xcq5z-hgGPvL",
        "colab_type": "text"
      },
      "cell_type": "markdown",
      "source": [
        "### 3-4 訓練模型"
      ]
    },
    {
      "metadata": {
        "id": "AcyWIJSS-xzc",
        "colab_type": "code",
        "colab": {}
      },
      "cell_type": "code",
      "source": [
        "model.compile(loss='categorical_crossentropy', optimizer=SGD(lr=0.09),\n",
        "             metrics=['accuracy'])"
      ],
      "execution_count": 0,
      "outputs": []
    },
    {
      "metadata": {
        "id": "4Rvl8jCk-6Z4",
        "colab_type": "code",
        "colab": {
          "base_uri": "https://localhost:8080/",
          "height": 785
        },
        "outputId": "d9de263e-02fc-4fe4-a367-6359ecea7671"
      },
      "cell_type": "code",
      "source": [
        "model_out = model.fit(x_train, y_train, batch_size=100, epochs=20, verbose=1,validation_data=(x_test,y_test))"
      ],
      "execution_count": 12,
      "outputs": [
        {
          "output_type": "stream",
          "text": [
            "WARNING:tensorflow:From /usr/local/lib/python3.6/dist-packages/tensorflow/python/ops/math_ops.py:3066: to_int32 (from tensorflow.python.ops.math_ops) is deprecated and will be removed in a future version.\n",
            "Instructions for updating:\n",
            "Use tf.cast instead.\n",
            "Train on 60000 samples, validate on 10000 samples\n",
            "Epoch 1/20\n",
            "60000/60000 [==============================] - 8s 125us/step - loss: 0.3801 - acc: 0.8909 - val_loss: 0.2111 - val_acc: 0.9405\n",
            "Epoch 2/20\n",
            "60000/60000 [==============================] - 7s 121us/step - loss: 0.1810 - acc: 0.9473 - val_loss: 0.1405 - val_acc: 0.9581\n",
            "Epoch 3/20\n",
            "60000/60000 [==============================] - 7s 125us/step - loss: 0.1324 - acc: 0.9616 - val_loss: 0.1234 - val_acc: 0.9646\n",
            "Epoch 4/20\n",
            "60000/60000 [==============================] - 8s 137us/step - loss: 0.1053 - acc: 0.9692 - val_loss: 0.1070 - val_acc: 0.9673\n",
            "Epoch 5/20\n",
            "60000/60000 [==============================] - 8s 132us/step - loss: 0.0858 - acc: 0.9753 - val_loss: 0.0935 - val_acc: 0.9713\n",
            "Epoch 6/20\n",
            "60000/60000 [==============================] - 8s 129us/step - loss: 0.0717 - acc: 0.9791 - val_loss: 0.0882 - val_acc: 0.9726\n",
            "Epoch 7/20\n",
            "60000/60000 [==============================] - 8s 138us/step - loss: 0.0609 - acc: 0.9823 - val_loss: 0.0784 - val_acc: 0.9750\n",
            "Epoch 8/20\n",
            "60000/60000 [==============================] - 8s 126us/step - loss: 0.0524 - acc: 0.9846 - val_loss: 0.0807 - val_acc: 0.9747\n",
            "Epoch 9/20\n",
            "60000/60000 [==============================] - 8s 125us/step - loss: 0.0458 - acc: 0.9866 - val_loss: 0.0689 - val_acc: 0.9782\n",
            "Epoch 10/20\n",
            "60000/60000 [==============================] - 8s 134us/step - loss: 0.0393 - acc: 0.9889 - val_loss: 0.0732 - val_acc: 0.9773\n",
            "Epoch 11/20\n",
            "60000/60000 [==============================] - 8s 135us/step - loss: 0.0344 - acc: 0.9899 - val_loss: 0.0686 - val_acc: 0.9793\n",
            "Epoch 12/20\n",
            "60000/60000 [==============================] - 8s 134us/step - loss: 0.0306 - acc: 0.9915 - val_loss: 0.0665 - val_acc: 0.9792\n",
            "Epoch 13/20\n",
            "60000/60000 [==============================] - 8s 139us/step - loss: 0.0252 - acc: 0.9935 - val_loss: 0.0677 - val_acc: 0.9784\n",
            "Epoch 14/20\n",
            "60000/60000 [==============================] - 9s 143us/step - loss: 0.0225 - acc: 0.9942 - val_loss: 0.0603 - val_acc: 0.9816\n",
            "Epoch 15/20\n",
            "60000/60000 [==============================] - 9s 145us/step - loss: 0.0191 - acc: 0.9956 - val_loss: 0.0620 - val_acc: 0.9809\n",
            "Epoch 16/20\n",
            "60000/60000 [==============================] - 9s 143us/step - loss: 0.0164 - acc: 0.9964 - val_loss: 0.0629 - val_acc: 0.9812\n",
            "Epoch 17/20\n",
            "60000/60000 [==============================] - 8s 140us/step - loss: 0.0148 - acc: 0.9968 - val_loss: 0.0601 - val_acc: 0.9820\n",
            "Epoch 18/20\n",
            "60000/60000 [==============================] - 9s 145us/step - loss: 0.0124 - acc: 0.9976 - val_loss: 0.0641 - val_acc: 0.9811\n",
            "Epoch 19/20\n",
            "60000/60000 [==============================] - 9s 145us/step - loss: 0.0106 - acc: 0.9981 - val_loss: 0.0591 - val_acc: 0.9823\n",
            "Epoch 20/20\n",
            "60000/60000 [==============================] - 8s 138us/step - loss: 0.0090 - acc: 0.9988 - val_loss: 0.0607 - val_acc: 0.9822\n"
          ],
          "name": "stdout"
        }
      ]
    },
    {
      "metadata": {
        "id": "B_C1-CvgGVlf",
        "colab_type": "text"
      },
      "cell_type": "markdown",
      "source": [
        "### 3-5 訓練結果 "
      ]
    },
    {
      "metadata": {
        "id": "1LSU1V3P-94s",
        "colab_type": "code",
        "colab": {
          "base_uri": "https://localhost:8080/",
          "height": 68
        },
        "outputId": "010fba6c-ae3b-4804-d4d5-b3552bea96d0"
      },
      "cell_type": "code",
      "source": [
        "score = model.evaluate(x_test, y_test, batch_size=100)\n",
        "print('loss:', score[0])\n",
        "print('accuracy:', score[1])"
      ],
      "execution_count": 13,
      "outputs": [
        {
          "output_type": "stream",
          "text": [
            "10000/10000 [==============================] - 0s 48us/step\n",
            "loss: 0.06073390664843828\n",
            "accuracy: 0.9822000080347061\n"
          ],
          "name": "stdout"
        }
      ]
    },
    {
      "metadata": {
        "id": "PQ2olKys_D90",
        "colab_type": "code",
        "colab": {
          "base_uri": "https://localhost:8080/",
          "height": 295
        },
        "outputId": "c1693607-0198-44af-9167-64f375f3e5bc"
      },
      "cell_type": "code",
      "source": [
        "plt.plot(model_out.history[\"acc\"])\n",
        "\n",
        "plt.title(\"model training accuracy\")\n",
        "plt.ylabel(\"accuracy\")\n",
        "plt.xlabel(\"epoch\")\n",
        "plt.legend([\"Relu\"],loc=\"best\")\n",
        "plt.show()"
      ],
      "execution_count": 14,
      "outputs": [
        {
          "output_type": "display_data",
          "data": {
            "image/png": "[encoded data removed]",
            "text/plain": [
              "<Figure size 432x288 with 1 Axes>"
            ]
          },
          "metadata": {
            "tags": []
          }
        }
      ]
    },
    {
      "metadata": {
        "id": "y0QKQ2k7Dl7E",
        "colab_type": "text"
      },
      "cell_type": "markdown",
      "source": [
        "## 結論\n",
        "\n",
        "利用funtional API 來建立神經網路的架構\n",
        "\n",
        "其結果為：\n",
        "\n",
        "*   訓練資料\n",
        "\n",
        "  正確率：99.88%\n",
        "*   測試資料\n",
        "\n",
        "  正確率：98.22%\n",
        "  \n",
        "\n",
        "由正確率來看算是一個不錯的模型。"
      ]
    }
  ]
}